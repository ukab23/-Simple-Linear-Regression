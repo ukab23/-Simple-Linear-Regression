{
  "nbformat": 4,
  "nbformat_minor": 0,
  "metadata": {
    "colab": {
      "name": "cdqa.ipynb",
      "version": "0.3.2",
      "provenance": [],
      "include_colab_link": true
    },
    "kernelspec": {
      "name": "python3",
      "display_name": "Python 3"
    }
  },
  "cells": [
    {
      "cell_type": "markdown",
      "metadata": {
        "id": "view-in-github",
        "colab_type": "text"
      },
      "source": [
        "<a href=\"https://colab.research.google.com/github/ukab23/-Simple-Linear-Regression/blob/master/cdqa.ipynb\" target=\"_parent\"><img src=\"https://colab.research.google.com/assets/colab-badge.svg\" alt=\"Open In Colab\"/></a>"
      ]
    },
    {
      "cell_type": "code",
      "metadata": {
        "id": "Ji12gjpQ7vrH",
        "colab_type": "code",
        "colab": {}
      },
      "source": [
        "import pandas as pd"
      ],
      "execution_count": 0,
      "outputs": []
    },
    {
      "cell_type": "code",
      "metadata": {
        "id": "57lAYOYZ8gnl",
        "colab_type": "code",
        "outputId": "eb667264-d1c6-423a-a42a-d845a2b0cbbd",
        "colab": {
          "base_uri": "https://localhost:8080/",
          "height": 296
        }
      },
      "source": [
        "import io\n",
        "data = pd.read_csv('content1.csv')\n",
        "data.head()"
      ],
      "execution_count": 0,
      "outputs": [
        {
          "output_type": "execute_result",
          "data": {
            "text/html": [
              "<div>\n",
              "<style scoped>\n",
              "    .dataframe tbody tr th:only-of-type {\n",
              "        vertical-align: middle;\n",
              "    }\n",
              "\n",
              "    .dataframe tbody tr th {\n",
              "        vertical-align: top;\n",
              "    }\n",
              "\n",
              "    .dataframe thead th {\n",
              "        text-align: right;\n",
              "    }\n",
              "</style>\n",
              "<table border=\"1\" class=\"dataframe\">\n",
              "  <thead>\n",
              "    <tr style=\"text-align: right;\">\n",
              "      <th></th>\n",
              "      <th>Unnamed: 0</th>\n",
              "      <th>title</th>\n",
              "      <th>publication</th>\n",
              "      <th>author</th>\n",
              "      <th>content</th>\n",
              "      <th>paragraphs</th>\n",
              "    </tr>\n",
              "  </thead>\n",
              "  <tbody>\n",
              "    <tr>\n",
              "      <th>0</th>\n",
              "      <td>0</td>\n",
              "      <td>House Republicans Fret About Winning Their Hea...</td>\n",
              "      <td>New York Times</td>\n",
              "      <td>Carl Hulse</td>\n",
              "      <td>washington congressional republican new fear c...</td>\n",
              "      <td>['washington congressional republican new fear...</td>\n",
              "    </tr>\n",
              "    <tr>\n",
              "      <th>1</th>\n",
              "      <td>1</td>\n",
              "      <td>Rift Between Officers and Residents as Killing...</td>\n",
              "      <td>New York Times</td>\n",
              "      <td>Benjamin Mueller and Al Baker</td>\n",
              "      <td>bullet shell get counted blood dry votive cand...</td>\n",
              "      <td>['bullet shell get counted blood dry votive ca...</td>\n",
              "    </tr>\n",
              "    <tr>\n",
              "      <th>2</th>\n",
              "      <td>2</td>\n",
              "      <td>Tyrus Wong, ‘Bambi’ Artist Thwarted by Racial ...</td>\n",
              "      <td>New York Times</td>\n",
              "      <td>Margalit Fox</td>\n",
              "      <td>walt disney’s bambi opened 1942 critic praised...</td>\n",
              "      <td>['walt disney’s bambi opened 1942 critic prais...</td>\n",
              "    </tr>\n",
              "    <tr>\n",
              "      <th>3</th>\n",
              "      <td>3</td>\n",
              "      <td>Among Deaths in 2016, a Heavy Toll in Pop Musi...</td>\n",
              "      <td>New York Times</td>\n",
              "      <td>William McDonald</td>\n",
              "      <td>death may great equalizer isn’t necessarily ev...</td>\n",
              "      <td>['death may great equalizer isn’t necessarily ...</td>\n",
              "    </tr>\n",
              "    <tr>\n",
              "      <th>4</th>\n",
              "      <td>4</td>\n",
              "      <td>Kim Jong-un Says North Korea Is Preparing to T...</td>\n",
              "      <td>New York Times</td>\n",
              "      <td>Choe Sang-Hun</td>\n",
              "      <td>seoul south korea north korea’s leader kim sai...</td>\n",
              "      <td>['seoul south korea north korea’s leader kim s...</td>\n",
              "    </tr>\n",
              "  </tbody>\n",
              "</table>\n",
              "</div>"
            ],
            "text/plain": [
              "   Unnamed: 0  ...                                         paragraphs\n",
              "0           0  ...  ['washington congressional republican new fear...\n",
              "1           1  ...  ['bullet shell get counted blood dry votive ca...\n",
              "2           2  ...  ['walt disney’s bambi opened 1942 critic prais...\n",
              "3           3  ...  ['death may great equalizer isn’t necessarily ...\n",
              "4           4  ...  ['seoul south korea north korea’s leader kim s...\n",
              "\n",
              "[5 rows x 6 columns]"
            ]
          },
          "metadata": {
            "tags": []
          },
          "execution_count": 6
        }
      ]
    },
    {
      "cell_type": "code",
      "metadata": {
        "id": "pq2St_MXgfma",
        "colab_type": "code",
        "outputId": "b46cf974-4da7-46b7-d14a-5880c902c0c1",
        "colab": {
          "base_uri": "https://localhost:8080/",
          "height": 34
        }
      },
      "source": [
        "from cdqa.utils.converters import df2squad\n",
        "# Converting dataframe to SQuAD format\n",
        "json_data = df2squad(df=data, squad_version='v1.1', output_dir='.', filename='data')"
      ],
      "execution_count": 0,
      "outputs": [
        {
          "output_type": "stream",
          "text": [
            "2105it [00:27, 130.94it/s]"
          ],
          "name": "stderr"
        }
      ]
    },
    {
      "cell_type": "code",
      "metadata": {
        "id": "l7aTgtes8lmM",
        "colab_type": "code",
        "outputId": "f166ccb9-48e4-43fd-df8f-d11e68a92806",
        "colab": {
          "base_uri": "https://localhost:8080/",
          "height": 72
        }
      },
      "source": [
        "import os\n",
        "from ast import literal_eval\n",
        "from cdqa.utils.filters import filter_paragraphs\n",
        "from cdqa.pipeline.cdqa_sklearn import QAPipeline"
      ],
      "execution_count": 0,
      "outputs": [
        {
          "output_type": "stream",
          "text": [
            "/usr/local/lib/python3.6/dist-packages/tqdm/autonotebook/__init__.py:14: TqdmExperimentalWarning: Using `tqdm.autonotebook.tqdm` in notebook mode. Use `tqdm.tqdm` instead to force console mode (e.g. in jupyter console)\n",
            "  \" (e.g. in jupyter console)\", TqdmExperimentalWarning)\n"
          ],
          "name": "stderr"
        }
      ]
    },
    {
      "cell_type": "code",
      "metadata": {
        "id": "mIlc6YFT8yAJ",
        "colab_type": "code",
        "outputId": "f02ef16b-3fe0-424d-f514-31433fca2849",
        "colab": {
          "base_uri": "https://localhost:8080/",
          "height": 70
        }
      },
      "source": [
        "from cdqa.utils.download import download_model\n",
        "download_model(model='bert-squad_1.1', dir='./models')"
      ],
      "execution_count": 0,
      "outputs": [
        {
          "output_type": "stream",
          "text": [
            "\n",
            "Downloading trained model...\n",
            "bert_qa_vCPU-sklearn.joblib already downloaded\n"
          ],
          "name": "stdout"
        }
      ]
    },
    {
      "cell_type": "code",
      "metadata": {
        "id": "U_3KzSlg81gZ",
        "colab_type": "code",
        "colab": {}
      },
      "source": [
        "def text_list(text):\n",
        "    text = text.split('.')\n",
        "    return text"
      ],
      "execution_count": 0,
      "outputs": []
    },
    {
      "cell_type": "code",
      "metadata": {
        "id": "txIzx5f59iUu",
        "colab_type": "code",
        "colab": {}
      },
      "source": [
        "punctuations = '\"#$%&\\'()*+,-/:;<=>@[\\\\]^_`{|}~—”“'\n",
        "stp_wrd =  ['i', 'me', 'my', 'myself', 'we', 'our', 'ours', 'ourselves', 'you', \"you're\",\n",
        "           \"you've\", \"you'll\", \"you'd\", 'your', 'yours', 'yourself', 'yourselves', 'he',\n",
        "           'him', 'his', 'himself', 'she', \"she's\", 'her', 'hers', 'herself', 'it',\n",
        "           \"it's\", 'its', 'itself', 'they', 'them', 'their', 'theirs', 'themselves',\n",
        "           'what', 'which', 'who', 'whom', 'this', 'that', \"that'll\", 'these', 'those',\n",
        "           'am', 'is', 'are', 'was', 'were', 'be', 'been', 'being', 'have', 'has', 'had',\n",
        "           'having', 'do', 'does', 'did', 'doing', 'a', 'an', 'the', 'and', 'but', 'if',\n",
        "           'or', 'because', 'as', 'until', 'while', 'of', 'at', 'by', 'for', 'with',\n",
        "           'about', 'against', 'between', 'into', 'through', 'during', 'before', 'after',\n",
        "           'above', 'below', 'to', 'from', 'up', 'down', 'in', 'out', 'on', 'off', 'over',\n",
        "           'under', 'again', 'further', 'then', 'once', 'here', 'there', 'when', 'where',\n",
        "           'why', 'how', 'all', 'any', 'both', 'each', 'few', 'more', 'most', 'other',\n",
        "           'some', 'such', 'no', 'nor', 'not', 'only', 'own', 'same', 'so', 'than', 'too',\n",
        "           'very', 's', 't', 'can', 'will', 'just', 'don', \"don't\", 'should', \"should've\",\n",
        "           'now', 'd', 'll', 'm', 'o', 're', 've', 'y', 'ain', 'aren', \"aren't\", 'couldn',\n",
        "           \"couldn't\", 'didn', \"didn't\", 'doesn', \"doesn't\", 'hadn', \"hadn't\", 'hasn',\n",
        "           \"hasn't\", 'haven', \"haven't\", 'isn', \"isn't\", 'ma', 'mightn', \"mightn't\",\n",
        "           'mustn', \"mustn't\", 'needn', \"needn't\", 'shan', \"shan't\", 'shouldn', \"shouldn't\",\n",
        "           'wasn', \"wasn't\", 'weren', \"weren't\", 'won', \"won't\", 'wouldn', \"wouldn't\"]"
      ],
      "execution_count": 0,
      "outputs": []
    },
    {
      "cell_type": "code",
      "metadata": {
        "id": "RiMDMiLj9R8J",
        "colab_type": "code",
        "colab": {}
      },
      "source": [
        "from nltk.stem import WordNetLemmatizer\n",
        "lemmatizer = WordNetLemmatizer()\n",
        "def process_text(text):\n",
        "    nopunc = [char for char in text if char not in punctuations]\n",
        "    nopunc = ''.join(nopunc)\n",
        "    clean_words = [word.lower() for word in nopunc.split() if word.lower() not in stp_wrd]\n",
        "    clean_words = [lemmatizer.lemmatize(lem) for lem in clean_words]\n",
        "    clean_words = \" \".join(clean_words)\n",
        "    return clean_words"
      ],
      "execution_count": 0,
      "outputs": []
    },
    {
      "cell_type": "code",
      "metadata": {
        "id": "GZ6jc24e9D-6",
        "colab_type": "code",
        "colab": {}
      },
      "source": [
        "data['content'] = data['content'].apply(process_text)"
      ],
      "execution_count": 0,
      "outputs": []
    },
    {
      "cell_type": "code",
      "metadata": {
        "id": "Y4wO54qo9Gho",
        "colab_type": "code",
        "colab": {}
      },
      "source": [
        "data['paragraphs'] = data['content'].apply(text_list)"
      ],
      "execution_count": 0,
      "outputs": []
    },
    {
      "cell_type": "code",
      "metadata": {
        "id": "DPDl-ieM9IZw",
        "colab_type": "code",
        "colab": {}
      },
      "source": [
        "data.to_csv('content.csv')"
      ],
      "execution_count": 0,
      "outputs": []
    },
    {
      "cell_type": "code",
      "metadata": {
        "id": "LyEfcZsg-A3i",
        "colab_type": "code",
        "outputId": "30e7aa8f-7099-4bfb-d70e-3260bc3f9c61",
        "colab": {
          "base_uri": "https://localhost:8080/",
          "height": 195
        }
      },
      "source": [
        "df = pd.read_csv('content.csv', converters={'paragraphs': literal_eval})\n",
        "df = filter_paragraphs(df)\n",
        "df = df[['title','paragraphs']]\n",
        "df.head()"
      ],
      "execution_count": 0,
      "outputs": [
        {
          "output_type": "execute_result",
          "data": {
            "text/html": [
              "<div>\n",
              "<style scoped>\n",
              "    .dataframe tbody tr th:only-of-type {\n",
              "        vertical-align: middle;\n",
              "    }\n",
              "\n",
              "    .dataframe tbody tr th {\n",
              "        vertical-align: top;\n",
              "    }\n",
              "\n",
              "    .dataframe thead th {\n",
              "        text-align: right;\n",
              "    }\n",
              "</style>\n",
              "<table border=\"1\" class=\"dataframe\">\n",
              "  <thead>\n",
              "    <tr style=\"text-align: right;\">\n",
              "      <th></th>\n",
              "      <th>title</th>\n",
              "      <th>paragraphs</th>\n",
              "    </tr>\n",
              "  </thead>\n",
              "  <tbody>\n",
              "    <tr>\n",
              "      <th>0</th>\n",
              "      <td>House Republicans Fret About Winning Their Hea...</td>\n",
              "      <td>[eager to avoid an ugly political pileup repub...</td>\n",
              "    </tr>\n",
              "    <tr>\n",
              "      <th>1</th>\n",
              "      <td>Rift Between Officers and Residents as Killing...</td>\n",
              "      <td>[gola white who wa beside her daughter when sh...</td>\n",
              "    </tr>\n",
              "    <tr>\n",
              "      <th>2</th>\n",
              "      <td>Tyrus Wong, ‘Bambi’ Artist Thwarted by Racial ...</td>\n",
              "      <td>[the question came like gunfire in which direc...</td>\n",
              "    </tr>\n",
              "    <tr>\n",
              "      <th>3</th>\n",
              "      <td>Among Deaths in 2016, a Heavy Toll in Pop Musi...</td>\n",
              "      <td>[he had hinted that his time wa short in the l...</td>\n",
              "    </tr>\n",
              "    <tr>\n",
              "      <th>4</th>\n",
              "      <td>Kim Jong-un Says North Korea Is Preparing to T...</td>\n",
              "      <td>[after the north’s satellite launch in februar...</td>\n",
              "    </tr>\n",
              "  </tbody>\n",
              "</table>\n",
              "</div>"
            ],
            "text/plain": [
              "                                               title                                         paragraphs\n",
              "0  House Republicans Fret About Winning Their Hea...  [eager to avoid an ugly political pileup repub...\n",
              "1  Rift Between Officers and Residents as Killing...  [gola white who wa beside her daughter when sh...\n",
              "2  Tyrus Wong, ‘Bambi’ Artist Thwarted by Racial ...  [the question came like gunfire in which direc...\n",
              "3  Among Deaths in 2016, a Heavy Toll in Pop Musi...  [he had hinted that his time wa short in the l...\n",
              "4  Kim Jong-un Says North Korea Is Preparing to T...  [after the north’s satellite launch in februar..."
            ]
          },
          "metadata": {
            "tags": []
          },
          "execution_count": 32
        }
      ]
    },
    {
      "cell_type": "code",
      "metadata": {
        "id": "y5V0nxCEA8jj",
        "colab_type": "code",
        "outputId": "9524f9cc-b5d9-4356-cc9e-10be005c27e2",
        "colab": {
          "base_uri": "https://localhost:8080/",
          "height": 54
        }
      },
      "source": [
        "df['paragraphs'][4]"
      ],
      "execution_count": 0,
      "outputs": [
        {
          "output_type": "execute_result",
          "data": {
            "text/plain": [
              "['after the north’s satellite launch in february south korean defense official said the unha rocket used in the launch if successfully reconfigured a a missile could fly more than 7 400 mile with a warhead of 1 100 to 1 300 pound far enough to reach most of the united states']"
            ]
          },
          "metadata": {
            "tags": []
          },
          "execution_count": 42
        }
      ]
    },
    {
      "cell_type": "code",
      "metadata": {
        "id": "8G1ihrwt-GVq",
        "colab_type": "code",
        "outputId": "f916003d-9b4b-4fde-cc23-bdab9d07fbf3",
        "colab": {
          "base_uri": "https://localhost:8080/",
          "height": 175
        }
      },
      "source": [
        "cdqa_pipeline = QAPipeline(reader='./models/bert_qa_vCPU-sklearn.joblib')\n",
        "cdqa_pipeline.fit_retriever(X=df)"
      ],
      "execution_count": 0,
      "outputs": [
        {
          "output_type": "execute_result",
          "data": {
            "text/plain": [
              "QAPipeline(reader=BertQA(bert_model='bert-base-uncased', do_lower_case=True,\n",
              "                         fp16=False, gradient_accumulation_steps=1,\n",
              "                         learning_rate=3e-05, local_rank=-1, loss_scale=0,\n",
              "                         max_answer_length=30, n_best_size=20, no_cuda=False,\n",
              "                         null_score_diff_threshold=0.0, num_train_epochs=2,\n",
              "                         output_dir='models', predict_batch_size=8, seed=42,\n",
              "                         server_ip='', server_port='', train_batch_size=8,\n",
              "                         verbose_logging=False, version_2_with_negative=False,\n",
              "                         warmup_proportion=0.1))"
            ]
          },
          "metadata": {
            "tags": []
          },
          "execution_count": 33
        }
      ]
    },
    {
      "cell_type": "code",
      "metadata": {
        "id": "M-ySxVbG-SYf",
        "colab_type": "code",
        "outputId": "910693f4-765e-4c26-d09d-cf41b49ac384",
        "colab": {
          "base_uri": "https://localhost:8080/",
          "height": 34
        }
      },
      "source": [
        "query = 'What is the thaad system?'\n",
        "prediction = cdqa_pipeline.predict(X=query)"
      ],
      "execution_count": 0,
      "outputs": [
        {
          "output_type": "stream",
          "text": [
            "3it [00:00, 601.88it/s]\n"
          ],
          "name": "stderr"
        }
      ]
    },
    {
      "cell_type": "code",
      "metadata": {
        "id": "8e_I9yum-ZHV",
        "colab_type": "code",
        "outputId": "42e6a3cc-840f-4693-f0f2-1b220e88b539",
        "colab": {
          "base_uri": "https://localhost:8080/",
          "height": 125
        }
      },
      "source": [
        "print('query: {}'.format(query))\n",
        "print('answer: {}'.format(prediction[0]))\n",
        "print('title: {}'.format(prediction[1]))\n",
        "print('paragraph: {}\\n'.format(prediction[2]))"
      ],
      "execution_count": 0,
      "outputs": [
        {
          "output_type": "stream",
          "text": [
            "query: What is the thaad system?\n",
            "answer: the nature of portraiture itself\n",
            "title: The Mysterious Metamorphosis of Chuck Close - The New York Times\n",
            "paragraph: i could not help wondering whether it wa right or fair or even possible to convey in word the man that close wa becoming and i also wondered in a more practical sense how to write about a person in the midst of transmogrifying flux what of any certainty could be noted what insight might be made? it occurs to me now that what this come down to is the nature of portraiture itself\n",
            "\n"
          ],
          "name": "stdout"
        }
      ]
    },
    {
      "cell_type": "code",
      "metadata": {
        "id": "U1Kv8Fm8-eQv",
        "colab_type": "code",
        "colab": {}
      },
      "source": [
        ""
      ],
      "execution_count": 0,
      "outputs": []
    }
  ]
}